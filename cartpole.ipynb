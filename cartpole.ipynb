{
  "nbformat": 4,
  "nbformat_minor": 0,
  "metadata": {
    "colab": {
      "provenance": [],
      "include_colab_link": true
    },
    "kernelspec": {
      "name": "python3",
      "display_name": "Python 3"
    },
    "language_info": {
      "name": "python"
    }
  },
  "cells": [
    {
      "cell_type": "markdown",
      "metadata": {
        "id": "view-in-github",
        "colab_type": "text"
      },
      "source": [
        "<a href=\"https://colab.research.google.com/github/Cheokerinos/SC3000/blob/main/cartpole.ipynb\" target=\"_parent\"><img src=\"https://colab.research.google.com/assets/colab-badge.svg\" alt=\"Open In Colab\"/></a>"
      ]
    },
    {
      "cell_type": "markdown",
      "source": [
        "# Tutorial and Sample Code for Balancing a Pole on a Cart"
      ],
      "metadata": {
        "id": "ZauhjPSfX7pI"
      }
    },
    {
      "cell_type": "markdown",
      "source": [
        "## Installing dependencies:"
      ],
      "metadata": {
        "id": "UBiYOoesYMvr"
      }
    },
    {
      "cell_type": "code",
      "execution_count": 1,
      "metadata": {
        "colab": {
          "base_uri": "https://localhost:8080/"
        },
        "id": "PbgnVwZmX5uW",
        "outputId": "05534287-7fcd-4a94-8002-6b4247ad74de"
      },
      "outputs": [
        {
          "output_type": "stream",
          "name": "stdout",
          "text": [
            "Requirement already satisfied: gym[classic_control] in /usr/local/lib/python3.11/dist-packages (0.25.2)\n",
            "Requirement already satisfied: numpy>=1.18.0 in /usr/local/lib/python3.11/dist-packages (from gym[classic_control]) (1.23.5)\n",
            "Requirement already satisfied: cloudpickle>=1.2.0 in /usr/local/lib/python3.11/dist-packages (from gym[classic_control]) (3.1.1)\n",
            "Requirement already satisfied: gym-notices>=0.0.4 in /usr/local/lib/python3.11/dist-packages (from gym[classic_control]) (0.0.8)\n",
            "Collecting pygame==2.1.0 (from gym[classic_control])\n",
            "  Using cached pygame-2.1.0.tar.gz (5.8 MB)\n",
            "  \u001b[1;31merror\u001b[0m: \u001b[1msubprocess-exited-with-error\u001b[0m\n",
            "  \n",
            "  \u001b[31m×\u001b[0m \u001b[32mpython setup.py egg_info\u001b[0m did not run successfully.\n",
            "  \u001b[31m│\u001b[0m exit code: \u001b[1;36m1\u001b[0m\n",
            "  \u001b[31m╰─>\u001b[0m See above for output.\n",
            "  \n",
            "  \u001b[1;35mnote\u001b[0m: This error originates from a subprocess, and is likely not a problem with pip.\n",
            "  Preparing metadata (setup.py) ... \u001b[?25l\u001b[?25herror\n",
            "\u001b[1;31merror\u001b[0m: \u001b[1mmetadata-generation-failed\u001b[0m\n",
            "\n",
            "\u001b[31m×\u001b[0m Encountered error while generating package metadata.\n",
            "\u001b[31m╰─>\u001b[0m See above for output.\n",
            "\n",
            "\u001b[1;35mnote\u001b[0m: This is an issue with the package mentioned above, not pip.\n",
            "\u001b[1;36mhint\u001b[0m: See above for details.\n",
            "Requirement already satisfied: setuptools in /usr/local/lib/python3.11/dist-packages (78.1.0)\n"
          ]
        }
      ],
      "source": [
        "!apt-get install -y xvfb python-opengl > /dev/null 2>&1\n",
        "!pip install gym pyvirtualdisplay > /dev/null 2>&1\n",
        "!pip install gym pyvirtualdisplay > /dev/null 2>&1\n",
        "!apt-get install -y xvfb python-opengl ffmpeg > /dev/null 2>&1\n",
        "!pip install gym[classic_control]\n",
        "!apt-get update > /dev/null 2>&1\n",
        "!apt-get install cmake > /dev/null 2>&1\n",
        "!pip install --upgrade setuptools 2>&1\n",
        "!pip install ez_setup > /dev/null 2>&1"
      ]
    },
    {
      "cell_type": "markdown",
      "source": [
        "## Importing dependencies and define helper functions"
      ],
      "metadata": {
        "id": "RwKbYeTgbaTA"
      }
    },
    {
      "cell_type": "code",
      "source": [
        "import gym\n",
        "from gym import logger as gymlogger\n",
        "from gym.wrappers import RecordVideo\n",
        "gymlogger.set_level(40) #error only\n",
        "#import tensorflow as tf\n",
        "import numpy as np\n",
        "import random\n",
        "import matplotlib\n",
        "import matplotlib.pyplot as plt\n",
        "%matplotlib inline\n",
        "import math\n",
        "import glob\n",
        "import io\n",
        "import base64\n",
        "from IPython.display import HTML\n",
        "from IPython import display as ipythondisplay\n",
        "\n",
        "def show_video():\n",
        "  mp4list = glob.glob('video/*.mp4')\n",
        "  if len(mp4list) > 0:\n",
        "    mp4 = mp4list[0]\n",
        "    video = io.open(mp4, 'r+b').read()\n",
        "    encoded = base64.b64encode(video)\n",
        "    ipythondisplay.display(HTML(data='''<video alt=\"test\" autoplay\n",
        "                loop controls style=\"height: 400px;\">\n",
        "                <source src=\"data:video/mp4;base64,{0}\" type=\"video/mp4\" />\n",
        "             </video>'''.format(encoded.decode('ascii'))))\n",
        "  else:\n",
        "    print(\"Could not find video\")"
      ],
      "metadata": {
        "id": "j6KpgCLGYWmj"
      },
      "execution_count": 3,
      "outputs": []
    },
    {
      "cell_type": "markdown",
      "source": [
        "## Tutorial: Loading CartPole environment"
      ],
      "metadata": {
        "id": "ehbqP9CXbmo7"
      }
    },
    {
      "cell_type": "code",
      "source": [
        "env = gym.make(\"CartPole-v1\")"
      ],
      "metadata": {
        "id": "Go12dH4qbwBy"
      },
      "execution_count": 4,
      "outputs": []
    },
    {
      "cell_type": "markdown",
      "source": [
        "We can check the action and observation space of this environment. Discrete(2) means that there are two valid discrete actions: 0 & 1."
      ],
      "metadata": {
        "id": "9XZ9g3xrcAXE"
      }
    },
    {
      "cell_type": "code",
      "source": [
        "print(env.action_space)"
      ],
      "metadata": {
        "colab": {
          "base_uri": "https://localhost:8080/"
        },
        "id": "ytxvVmLdcRyw",
        "outputId": "21b1ca78-ba36-45f6-daae-e3ca71fea92c"
      },
      "execution_count": 5,
      "outputs": [
        {
          "output_type": "stream",
          "name": "stdout",
          "text": [
            "Discrete(2)\n"
          ]
        }
      ]
    },
    {
      "cell_type": "markdown",
      "source": [
        "The observation space is given below. The first two arrays define the min and max values of the 4 observed values, corresponding to cart position, velocity and pole angle, angular velocity."
      ],
      "metadata": {
        "id": "pVXGWi_Ncfg-"
      }
    },
    {
      "cell_type": "code",
      "source": [
        "print(env.observation_space)"
      ],
      "metadata": {
        "colab": {
          "base_uri": "https://localhost:8080/"
        },
        "id": "DyqHr9I5cdkX",
        "outputId": "980ef994-289a-48c8-cbe2-0488b6dcfcbc"
      },
      "execution_count": 9,
      "outputs": [
        {
          "output_type": "stream",
          "name": "stdout",
          "text": [
            "Box([-4.8000002e+00 -3.4028235e+38 -4.1887903e-01 -3.4028235e+38], [4.8000002e+00 3.4028235e+38 4.1887903e-01 3.4028235e+38], (4,), float32)\n"
          ]
        }
      ]
    },
    {
      "cell_type": "markdown",
      "source": [
        "We call each round of the pole-balancing game an \"episode\". At the start of each episode, make sure the environment is reset, which chooses a random initial state, e.g., pole slightly tilted to the right. This initialization can be achieved by the code below, which returns the observation of the initial state."
      ],
      "metadata": {
        "id": "HFOdaU2Gdyg0"
      }
    },
    {
      "cell_type": "code",
      "source": [
        "observation = env.reset()\n",
        "print(\"Initial observations:\", observation)"
      ],
      "metadata": {
        "colab": {
          "base_uri": "https://localhost:8080/"
        },
        "id": "VMr6qAqxdOsm",
        "outputId": "08664252-a4b7-4b3c-d829-bd8bfd107b6c"
      },
      "execution_count": 12,
      "outputs": [
        {
          "output_type": "stream",
          "name": "stdout",
          "text": [
            "Initial observations: [-0.02794954 -0.04309896  0.00799442 -0.02745308]\n"
          ]
        }
      ]
    },
    {
      "cell_type": "markdown",
      "source": [
        "For the CartPole environment, there are two possible actions: 0 for pushing to the left and 1 for pushing to the right. For example, we can push the cart to the left using code below, which returns the new observation, the current reward, an indicator of whether the game ends, and some additional information (not used in this project). For CartPole, the game ends when the pole is significantly tilted or you manage to balance the pole for 500 steps. You get exactly 1 reward for each step before the game ends (i.e., max cumulative reward is 500)."
      ],
      "metadata": {
        "id": "qnG2QdfbeZrI"
      }
    },
    {
      "cell_type": "code",
      "source": [
        "observation, reward, done, info = env.step(0)\n",
        "print(\"New observations after choosing action 0:\", observation)\n",
        "print(\"Reward for this step:\", reward)\n",
        "print(\"Is this round done?\", done)"
      ],
      "metadata": {
        "colab": {
          "base_uri": "https://localhost:8080/"
        },
        "id": "MmfMDvyYdWGk",
        "outputId": "62950148-72a1-45e6-a867-43e4440702d1"
      },
      "execution_count": 13,
      "outputs": [
        {
          "output_type": "stream",
          "name": "stdout",
          "text": [
            "New observations after choosing action 0: [-0.02881152 -0.23833464  0.00744536  0.2677414 ]\n",
            "Reward for this step: 1.0\n",
            "Is this round done? False\n"
          ]
        }
      ]
    },
    {
      "cell_type": "markdown",
      "source": [
        "Now we can play a full round of the game using a naive strategy (always choosing action 0), and show the cumulative reward in the round. Note that reward returned by env.step(*) corresponds to the reward for current step. So we have to accumulate the reward for each step. Clearly, the naive strategy performs poorly by surviving only a dozen of steps."
      ],
      "metadata": {
        "id": "tj0zCh59fhBb"
      }
    },
    {
      "cell_type": "code",
      "source": [
        "observation = env.reset()\n",
        "cumulative_reward = 0\n",
        "done = False\n",
        "while not done:\n",
        "    observation, reward, done, info = env.step(0)\n",
        "    cumulative_reward += reward\n",
        "print(\"Cumulative reward for this round:\", cumulative_reward)"
      ],
      "metadata": {
        "colab": {
          "base_uri": "https://localhost:8080/"
        },
        "id": "AVucQVRwf6Jm",
        "outputId": "ec8baf76-b519-4738-e9cc-453fc39a9257"
      },
      "execution_count": 14,
      "outputs": [
        {
          "output_type": "stream",
          "name": "stdout",
          "text": [
            "Cumulative reward for this round: 9.0\n"
          ]
        }
      ]
    },
    {
      "cell_type": "markdown",
      "source": [
        "## Task 1: Development of an RL agent"
      ],
      "metadata": {
        "id": "2oIzK9SzhlWN"
      }
    },
    {
      "cell_type": "markdown",
      "source": [
        "An example of a naive agent is given below, which randomly chooses an action regardless of the observation:"
      ],
      "metadata": {
        "id": "Cc6_e5c_huiq"
      }
    },
    {
      "cell_type": "code",
      "source": [
        "alpha = 0.5\n",
        "gamma = 0.95\n",
        "episodes = 100000\n",
        "max_reward = 500\n",
        "prior_reward = 0\n",
        "min_epsilon = 0.05\n",
        "total_reward = 0\n",
        "\n",
        "Observation = [30, 30, 50, 50]\n",
        "np_array_win_size = np.array([0.25, 0.25, 0.01, 0.1])\n",
        "\n",
        "epsilon = 1\n",
        "epsilon_decay_value = 0.99995\n",
        "num_actions = env.action_space.n\n",
        "\n",
        "q_table = np.random.uniform(low=0, high=1, size=(Observation + [num_actions]))\n",
        "q_table.shape\n",
        "\n",
        "def discrete_state(state): #Give the states discrete values instead of a continuous range of state values\n",
        "    discrete_state = state/np_array_win_size+ np.array([15,10,1,10])\n",
        "    return tuple(discrete_state.astype(int))\n",
        "\n",
        "def RL_policy_agent(observation):\n",
        "    state = discrete_state(observation)\n",
        "    if np.random.random() <epsilon:\n",
        "      action = np.random.randint(0, env.action_space.n)\n",
        "    else:\n",
        "      action = np.argmax(q_table[state])\n",
        "    return action\n",
        "\n",
        "def q_learning(state,action,reward,next_state,done):\n",
        "  current_state = discrete_state(state)\n",
        "  next_state = discrete_state(next_state)\n",
        "  max_future_q = np.max(q_table[next_state])\n",
        "  current_q = q_table[current_state + (action,)]\n",
        "  q_table[current_state + (action,)] = (1 - alpha) * current_q + alpha * (reward + gamma * max_future_q)\n",
        "\n",
        "for episode in range(episodes+1):\n",
        "  observation = env.reset()\n",
        "  cumulative_reward = 0\n",
        "  done = False\n",
        "  while not done and cumulative_reward < max_reward:\n",
        "    action = RL_policy_agent(observation)\n",
        "    next_observation, reward, done, _ = env.step(action)\n",
        "\n",
        "    cumulative_reward += reward\n",
        "    q_learning(observation, action, reward, next_observation, done)\n",
        "    observation = next_observation\n",
        "\n",
        "  if epsilon>min_epsilon:\n",
        "    if cumulative_reward > prior_reward and episode > 10000:\n",
        "      epsilon = math.pow(epsilon_decay_value, episode - 10000)\n",
        "\n",
        "\n",
        "  total_reward += cumulative_reward\n",
        "  prior_reward = cumulative_reward\n",
        "\n",
        "  if(episode%1000 == 0):\n",
        "    mean_reward = total_reward/1000\n",
        "    print(\"episode: \", episode, \"Mean Reward: \", str(mean_reward))\n",
        "    total_reward = 0\n",
        "\n"
      ],
      "metadata": {
        "colab": {
          "base_uri": "https://localhost:8080/"
        },
        "id": "NDYVIgw67WH6",
        "outputId": "94c58241-042f-42c6-aeaa-cc911b9f8232"
      },
      "execution_count": 24,
      "outputs": [
        {
          "output_type": "stream",
          "name": "stdout",
          "text": [
            "episode:  0 Mean Reward:  0.012\n",
            "episode:  1000 Mean Reward:  22.344\n",
            "episode:  2000 Mean Reward:  22.311\n",
            "episode:  3000 Mean Reward:  22.342\n",
            "episode:  4000 Mean Reward:  22.532\n",
            "episode:  5000 Mean Reward:  23.059\n",
            "episode:  6000 Mean Reward:  22.394\n",
            "episode:  7000 Mean Reward:  22.5\n",
            "episode:  8000 Mean Reward:  21.928\n",
            "episode:  9000 Mean Reward:  22.553\n",
            "episode:  10000 Mean Reward:  22.48\n",
            "episode:  11000 Mean Reward:  22.12\n",
            "episode:  12000 Mean Reward:  24.804\n",
            "episode:  13000 Mean Reward:  27.309\n",
            "episode:  14000 Mean Reward:  29.765\n",
            "episode:  15000 Mean Reward:  31.704\n",
            "episode:  16000 Mean Reward:  34.523\n",
            "episode:  17000 Mean Reward:  38.068\n",
            "episode:  18000 Mean Reward:  42.107\n",
            "episode:  19000 Mean Reward:  44.487\n",
            "episode:  20000 Mean Reward:  49.1\n",
            "episode:  21000 Mean Reward:  52.693\n",
            "episode:  22000 Mean Reward:  55.743\n",
            "episode:  23000 Mean Reward:  61.548\n",
            "episode:  24000 Mean Reward:  67.01\n",
            "episode:  25000 Mean Reward:  72.641\n",
            "episode:  26000 Mean Reward:  76.396\n",
            "episode:  27000 Mean Reward:  84.333\n",
            "episode:  28000 Mean Reward:  82.659\n",
            "episode:  29000 Mean Reward:  92.648\n",
            "episode:  30000 Mean Reward:  94.188\n",
            "episode:  31000 Mean Reward:  98.29\n",
            "episode:  32000 Mean Reward:  105.116\n",
            "episode:  33000 Mean Reward:  113.263\n",
            "episode:  34000 Mean Reward:  110.03\n",
            "episode:  35000 Mean Reward:  121.74\n",
            "episode:  36000 Mean Reward:  128.029\n",
            "episode:  37000 Mean Reward:  140.146\n",
            "episode:  38000 Mean Reward:  141.405\n",
            "episode:  39000 Mean Reward:  129.377\n",
            "episode:  40000 Mean Reward:  134.278\n",
            "episode:  41000 Mean Reward:  152.567\n",
            "episode:  42000 Mean Reward:  147.792\n",
            "episode:  43000 Mean Reward:  161.202\n",
            "episode:  44000 Mean Reward:  179.203\n",
            "episode:  45000 Mean Reward:  186.826\n",
            "episode:  46000 Mean Reward:  173.572\n",
            "episode:  47000 Mean Reward:  195.092\n",
            "episode:  48000 Mean Reward:  210.618\n",
            "episode:  49000 Mean Reward:  208.34\n",
            "episode:  50000 Mean Reward:  222.851\n",
            "episode:  51000 Mean Reward:  218.233\n",
            "episode:  52000 Mean Reward:  220.936\n",
            "episode:  53000 Mean Reward:  255.941\n",
            "episode:  54000 Mean Reward:  280.316\n",
            "episode:  55000 Mean Reward:  278.092\n",
            "episode:  56000 Mean Reward:  275.212\n",
            "episode:  57000 Mean Reward:  262.508\n",
            "episode:  58000 Mean Reward:  306.716\n",
            "episode:  59000 Mean Reward:  310.092\n",
            "episode:  60000 Mean Reward:  309.602\n",
            "episode:  61000 Mean Reward:  337.535\n",
            "episode:  62000 Mean Reward:  353.953\n",
            "episode:  63000 Mean Reward:  338.739\n",
            "episode:  64000 Mean Reward:  330.919\n",
            "episode:  65000 Mean Reward:  356.505\n",
            "episode:  66000 Mean Reward:  383.802\n",
            "episode:  67000 Mean Reward:  385.164\n",
            "episode:  68000 Mean Reward:  379.462\n",
            "episode:  69000 Mean Reward:  387.172\n",
            "episode:  70000 Mean Reward:  391.036\n",
            "episode:  71000 Mean Reward:  408.306\n",
            "episode:  72000 Mean Reward:  408.567\n",
            "episode:  73000 Mean Reward:  404.892\n",
            "episode:  74000 Mean Reward:  416.11\n",
            "episode:  75000 Mean Reward:  424.089\n",
            "episode:  76000 Mean Reward:  420.26\n",
            "episode:  77000 Mean Reward:  428.092\n",
            "episode:  78000 Mean Reward:  423.361\n",
            "episode:  79000 Mean Reward:  417.198\n",
            "episode:  80000 Mean Reward:  433.354\n",
            "episode:  81000 Mean Reward:  421.076\n",
            "episode:  82000 Mean Reward:  430.56\n",
            "episode:  83000 Mean Reward:  436.723\n",
            "episode:  84000 Mean Reward:  438.929\n",
            "episode:  85000 Mean Reward:  401.802\n",
            "episode:  86000 Mean Reward:  430.371\n",
            "episode:  87000 Mean Reward:  440.064\n",
            "episode:  88000 Mean Reward:  430.689\n",
            "episode:  89000 Mean Reward:  437.143\n",
            "episode:  90000 Mean Reward:  426.407\n",
            "episode:  91000 Mean Reward:  411.474\n",
            "episode:  92000 Mean Reward:  368.888\n",
            "episode:  93000 Mean Reward:  425.593\n",
            "episode:  94000 Mean Reward:  433.411\n",
            "episode:  95000 Mean Reward:  454.635\n",
            "episode:  96000 Mean Reward:  450.362\n",
            "episode:  97000 Mean Reward:  451.427\n",
            "episode:  98000 Mean Reward:  453.847\n",
            "episode:  99000 Mean Reward:  433.049\n",
            "episode:  100000 Mean Reward:  453.945\n"
          ]
        }
      ]
    },
    {
      "cell_type": "markdown",
      "source": [
        "I trained the algorithm using 100000 episodes, to ensure that I give the RL Agent enough episodes to achieve a satisfiable consistent Mean Reward. As shown above.\n",
        "#Analysis\n",
        "We can see that the agent only starts learning after 10000 episodes.\n",
        "After ~42000 episodes, the agent achieves a mean reward of **150**.\n",
        "After ~50000 episodes, the agent achieves a mean reward of **220**.\n",
        "After ~58000 episodes, the agent achieves a mean reward of **300**\n",
        "After ~71000 episodes, the agent achieves a mean reward of **400**\n",
        "The agent continues to only learn and improve its mean rewards to ~**450** by episode 100000.\n",
        "#Alpha\n",
        "I set alpha at 0.5 as it is the greatest balance between stability and learning. If I set it too high it can result in an unstable Q-table while setting too low will result in the agent not learning fast enough. Hence 0.5 is the sweet spot.\n",
        "#Epsilon\n",
        "I set Epsilon to begin 1 to encourage exploration for the Agent and I only started to decay the epsilon after 10000 episodes. At first, I set the epsilon to start decaying after 5000 episodes. However, I realised the Agent still continues to not learn or achieve a higher mean reward despite allowing it to exploit its Q-table earlier. Hence, I settled with 10000 to allow the agent to explore and familiarise itself with the environment first before decaying and using the Q-table to choose the best action. This would allow the Agent to better make decisions and choosing the best max Q-value.\n",
        "#Epsilon Decay\n",
        "The epsilon decay value is set at 0.99995 as well to encourage more exploring after the first 10000 episodes, this is to prevent the Agent from stabilising the Q-table too quickly due to lack of eploration. Furthermore, I use a random float generator np.random.random() to decide between Exploration or Exploitation. This allows for a great, unbiased selection of exploration or exploitation of action by the Agent. Hence, I am able to achieve a good balance between exploitation and exploration."
      ],
      "metadata": {
        "id": "s99mLYdppfOM"
      }
    },
    {
      "cell_type": "markdown",
      "source": [
        "For Task 1, we can show the observation and chosen action below:"
      ],
      "metadata": {
        "id": "RAi7KKwNiegR"
      }
    },
    {
      "cell_type": "code",
      "source": [
        "observation = env.reset()\n",
        "action = RL_policy_agent(observation)\n",
        "print(\"Observation:\", observation)\n",
        "print(\"Chosen action:\", action)"
      ],
      "metadata": {
        "colab": {
          "base_uri": "https://localhost:8080/"
        },
        "id": "ae2ia-vUiNKJ",
        "outputId": "63fa6740-d5d2-457d-cfa5-7f4d8dec59e3"
      },
      "execution_count": 25,
      "outputs": [
        {
          "output_type": "stream",
          "name": "stdout",
          "text": [
            "Observation: [-0.01810119 -0.02876062 -0.03747612 -0.03144415]\n",
            "Chosen action: 0\n"
          ]
        }
      ]
    },
    {
      "cell_type": "markdown",
      "source": [
        "## Task 2: Demonstrate the effectiveness of the RL agent"
      ],
      "metadata": {
        "id": "-XtIQ0Rti1gm"
      }
    },
    {
      "cell_type": "markdown",
      "source": [
        "For this task, use the agent developed in Task 1 to play the game for 100 episodes (refer to tutorial for how to play a round), record the cumulative reward for each round, and plot the reward for each round. A sample plotting code is given below. Note that you must include code to play for 100 episodes and use the code to obtain round_results for plotting. DO NOT record the round results in advance and paste the results to the notebook."
      ],
      "metadata": {
        "id": "djBEShf0kGI4"
      }
    },
    {
      "cell_type": "code",
      "source": [
        "num_episodes = 100\n",
        "episode_results = []\n",
        "max_reward = 500\n",
        "\n",
        "for episode in range(num_episodes):\n",
        "  observation = env.reset()\n",
        "  cumulative_reward = 0\n",
        "  done = False\n",
        "  while not done and cumulative_reward < max_reward:\n",
        "    action = RL_policy_agent(observation)\n",
        "    next_observation, reward, done, _ = env.step(action)\n",
        "\n",
        "    cumulative_reward += reward\n",
        "    q_learning(observation, action, reward, next_observation, done)\n",
        "    observation = next_observation\n",
        "\n",
        "  if epsilon>min_epsilon:\n",
        "    if cumulative_reward > prior_reward and episode > 10000:\n",
        "      epsilon = math.pow(epsilon_decay_value, episode - 10000)\n",
        "\n",
        "\n",
        "  total_reward += cumulative_reward\n",
        "  prior_reward = cumulative_reward\n",
        "  episode_results.append(cumulative_reward)\n",
        "\n",
        "plt.plot(episode_results)\n",
        "plt.title('Cumulative reward for each episode')\n",
        "plt.ylabel('Cumulative reward')\n",
        "plt.xlabel('episode')\n",
        "plt.show()\n",
        "print(\"Average Reward: \", np.mean(episode_results))"
      ],
      "metadata": {
        "colab": {
          "base_uri": "https://localhost:8080/",
          "height": 490
        },
        "id": "RZrCKywQi6CE",
        "outputId": "a9be7412-a5ce-4093-aeef-f2c7e9cf24a8"
      },
      "execution_count": 32,
      "outputs": [
        {
          "output_type": "display_data",
          "data": {
            "text/plain": [
              "<Figure size 640x480 with 1 Axes>"
            ],
            "image/png": "[encoded data removed]"
          },
          "metadata": {}
        },
        {
          "output_type": "stream",
          "name": "stdout",
          "text": [
            "Average Reward:  459.64\n"
          ]
        }
      ]
    },
    {
      "cell_type": "markdown",
      "source": [
        "Hence, we can see that the agent has learned enough about the CartPole environment and the lowest episodic reward is lower than 100 and the highest reaches 500. The Average reward is 317.21 which is relatively good with an Agent that has only trained with 60000 episodes."
      ],
      "metadata": {
        "id": "XndSYH7wlvn7"
      }
    },
    {
      "cell_type": "code",
      "source": [
        "print(\"Average cumulative reward:\", np.mean(episode_results))\n",
        "print(\"Is my agent good enough?\", np.mean(episode_results) > 195)"
      ],
      "metadata": {
        "colab": {
          "base_uri": "https://localhost:8080/"
        },
        "id": "pOiOp9OYlo5Y",
        "outputId": "0e11998c-b5d0-40f2-a27b-878816701704"
      },
      "execution_count": 33,
      "outputs": [
        {
          "output_type": "stream",
          "name": "stdout",
          "text": [
            "Average cumulative reward: 459.64\n",
            "Is my agent good enough? True\n"
          ]
        }
      ]
    },
    {
      "cell_type": "markdown",
      "source": [
        "## Task 3: Render one episode played by the agent"
      ],
      "metadata": {
        "id": "Yg0DCT38lFA6"
      }
    },
    {
      "cell_type": "markdown",
      "source": [
        "Plug your agent to the code below to obtain rendered result."
      ],
      "metadata": {
        "id": "vx1awMr9lc_w"
      }
    },
    {
      "cell_type": "code",
      "source": [
        "env = gym.make(\"CartPole-v1\")\n",
        "env = RecordVideo(env, \"./video\")\n",
        "observation, reward, done, info = env.reset()\n",
        "total_reward = 0\n",
        "while True:\n",
        "    env.render()\n",
        "    #your agent goes here\n",
        "    action = RL_policy_agent(observation)\n",
        "    results = env.step(action)\n",
        "    observation, reward,done= results[:3]\n",
        "    total_reward += 1\n",
        "    if done:\n",
        "      break\n",
        "print(\"Reward: \", total_reward)\n",
        "env.close()\n",
        "show_video()"
      ],
      "metadata": {
        "colab": {
          "base_uri": "https://localhost:8080/",
          "height": 439
        },
        "id": "LYyavfbIa47D",
        "outputId": "f5e20485-7487-49e5-ca7d-20c017da307c"
      },
      "execution_count": 60,
      "outputs": [
        {
          "output_type": "stream",
          "name": "stdout",
          "text": [
            "Reward:  500\n"
          ]
        },
        {
          "output_type": "display_data",
          "data": {
            "text/plain": [
              "<IPython.core.display.HTML object>"
            ],
            "text/html": [
              "<video alt=\"test\" autoplay\n",
              "                loop controls style=\"height: 400px;\">\n",
              "                <source src=\"data:video/mp4;base64,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\" type=\"video/mp4\" />\n",
              "             </video>"
            ]
          },
          "metadata": {}
        }
      ]
    }
  ]
}